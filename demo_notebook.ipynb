{
 "cells": [
  {
   "cell_type": "markdown",
   "id": "e9fbfa64",
   "metadata": {},
   "source": [
    "# 🖼️ Parallel Image Captioning with the Image Captioning Server\n",
    "\n",
    "This notebook demonstrates how to **dynamically scan images** in a directory and send **parallel POST requests** to the `/caption` endpoint of the **Image Captioning Server**.  \n",
    "We use **aiohttp** and **asyncio** for concurrency, and dynamically load images using Python's `glob` module.\n",
    "\n",
    "The server is running at **http://localhost:80**.\n"
   ]
  },
  {
   "cell_type": "code",
   "execution_count": null,
   "id": "55cce76b",
   "metadata": {},
   "outputs": [
    {
     "name": "stdout",
     "output_type": "stream",
     "text": [
      "Image: images/bananas.jpg, Caption: a bunch of bananas\n",
      "Image: images/cycling.jpg, Caption: a man riding a bike\n",
      "Image: images/elephant.jpg, Caption: the elephant is wet\n",
      "Error for images/dog.png: 502\n",
      "Error for images/spoons.jpg: 502\n",
      "Error for images/bike.jpg: 502\n",
      "Error for images/surf.jpg: 502\n",
      "Image: images/cherry_blossom.jpg, Caption: people are gathered around a blue table covered in pink flowers\n",
      "Image: images/boy_eating_burger.jpg, Caption: a boy eating a piece of pizza\n",
      "Image: images/family.png, Caption: a group of people are smiling and posing for a picture\n"
     ]
    }
   ],
   "source": [
    "import aiohttp\n",
    "import asyncio\n",
    "import os\n",
    "import glob\n",
    "\n",
    "# Dynamically find all JPEG/PNG images in 'images/' directory\n",
    "image_dir = 'images'\n",
    "image_paths = glob.glob(os.path.join(image_dir, '*.[jp][pn]g'))  # matches .jpg and .png files\n",
    "\n",
    "# For flexibility (or if your images have uppercase extensions), use:\n",
    "# image_paths = [f for f in glob.glob(os.path.join(image_dir, '*')) if f.lower().endswith(('.jpg', '.jpeg', '.png'))]\n",
    "\n",
    "# 🔧 Limit concurrent requests to avoid overwhelming the server\n",
    "sem = asyncio.Semaphore(3)  # limit to 5 concurrent requests\n",
    "\n",
    "async def send_request(session, image_path):\n",
    "    async with sem:\n",
    "        try:\n",
    "            with open(image_path, 'rb') as f:\n",
    "                 #  Prepare multipart/form-data\n",
    "                form = aiohttp.FormData()\n",
    "                form.add_field('file', f, filename=os.path.basename(image_path), content_type='image/jpeg')\n",
    "\n",
    "                #  Send POST request to /caption endpoint\n",
    "                async with session.post('http://localhost:80/caption', data=form) as response:\n",
    "                    if response.status == 200:\n",
    "                        result = await response.json()\n",
    "                        print(f'Image: {image_path}, Caption: {result[\"caption\"]}')\n",
    "                    else:\n",
    "                        print(f'Error for {image_path}: {response.status}')\n",
    "        except Exception as e:\n",
    "            print(f'Error processing {image_path}: {e}')\n",
    "\n",
    "async def main():\n",
    "    async with aiohttp.ClientSession() as session:\n",
    "        #  Create and run parallel tasks\n",
    "        tasks = [send_request(session, path) for path in image_paths]\n",
    "        await asyncio.gather(*tasks)\n",
    "\n",
    "#  In Jupyter, we use 'await' instead of 'asyncio.run()'\n",
    "await main()\n"
   ]
  }
 ],
 "metadata": {
  "kernelspec": {
   "display_name": ".venv",
   "language": "python",
   "name": "python3"
  },
  "language_info": {
   "codemirror_mode": {
    "name": "ipython",
    "version": 3
   },
   "file_extension": ".py",
   "mimetype": "text/x-python",
   "name": "python",
   "nbconvert_exporter": "python",
   "pygments_lexer": "ipython3",
   "version": "3.13.2"
  }
 },
 "nbformat": 4,
 "nbformat_minor": 5
}
